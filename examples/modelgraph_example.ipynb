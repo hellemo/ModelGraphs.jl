{
 "cells": [
  {
   "cell_type": "markdown",
   "metadata": {},
   "source": [
    "# An Introduction to Modeling with ModelGraphs.jl\n",
    "__Jordan Jalving and Victor M. Zavala__ <br>\n",
    "__University of Wisconsin-Madison__"
   ]
  },
  {
   "cell_type": "code",
   "execution_count": 9,
   "metadata": {},
   "outputs": [
    {
     "data": {
      "text/plain": [
       "\"/home/jordan/.julia/dev/ModelGraphs/Project.toml\""
      ]
     },
     "execution_count": 9,
     "metadata": {},
     "output_type": "execute_result"
    }
   ],
   "source": [
    "using Pkg\n",
    "Pkg.activate(\"/home/jordan/.julia/dev/ModelGraphs\")"
   ]
  },
  {
   "cell_type": "markdown",
   "metadata": {},
   "source": [
    "### Load Packages"
   ]
  },
  {
   "cell_type": "code",
   "execution_count": 10,
   "metadata": {},
   "outputs": [],
   "source": [
    "using ModelGraphs\n",
    "using GLPK\n",
    "using Ipopt"
   ]
  },
  {
   "cell_type": "markdown",
   "metadata": {},
   "source": [
    "### Create a ModelGraph \n",
    "Here we add one link variable and two master constraints.  \n",
    "Link variables and master constraints can be thought of as a first stage problem"
   ]
  },
  {
   "cell_type": "code",
   "execution_count": 11,
   "metadata": {},
   "outputs": [
    {
     "data": {
      "text/latex": [
       "$ z - 3 \\leq 0.0 $"
      ],
      "text/plain": [
       "z - 3 ≤ 0.0"
      ]
     },
     "execution_count": 11,
     "metadata": {},
     "output_type": "execute_result"
    }
   ],
   "source": [
    "mg = ModelGraph()\n",
    "\n",
    "#Master Constraints\n",
    "@linkvariable(mg,z)\n",
    "@masterconstraint(mg,z >= 0)\n",
    "@masterconstraint(mg,z <= 3)\n",
    "\n",
    "#NOTE \n",
    "#It is also possible to say:\n",
    "# @variable(mg,z)\n",
    "# @constraint(mg, z >= 0)\n",
    "# @constraint(mg, z<= 3)\n",
    "# HOWEVER, this can make the model definition between the graph and its nodes confusing.  We recommend using \n",
    "# the macros to facilitate model development.\n",
    "\n"
   ]
  },
  {
   "cell_type": "markdown",
   "metadata": {},
   "source": [
    "### Add ModelNodes\n",
    "ModelNode(s) can be treated just like Model(s) from JuMP.  In fact, a ModelNode is a JuMP.AbstractModel extension which allows the straightforward JuMP syntax."
   ]
  },
  {
   "cell_type": "code",
   "execution_count": 12,
   "metadata": {},
   "outputs": [
    {
     "data": {
      "text/latex": [
       "$ x_{1} + x_{2} \\leq 3.0 $"
      ],
      "text/plain": [
       "x[1] + x[2] ≤ 3.0"
      ]
     },
     "execution_count": 12,
     "metadata": {},
     "output_type": "execute_result"
    }
   ],
   "source": [
    "#Add nodes\n",
    "n1 = add_node!(mg)\n",
    "@variable(n1,z)\n",
    "link_variables!(n1[:z],mg[:z])\n",
    "@variable(n1,x[1:2] >= 1)\n",
    "@constraint(n1,x[1] + x[2] <= 3)\n",
    "\n",
    "n2 = add_node!(mg)\n",
    "@variable(n2,z)\n",
    "link_variables!(n2[:z],mg[:z])\n",
    "@variable(n2,x[1:2] >= 0)\n",
    "@constraint(n2,x[1] + x[2] <= 3)\n"
   ]
  },
  {
   "cell_type": "markdown",
   "metadata": {},
   "source": [
    "### Add a link constraint and an overall graph objective\n",
    "By default, a ModelGraph assumes that the total graph objective as the sum of individual node objectives.  The @graphobjective makes it straightforward to specify various objective functions as a funcion of node and link variables."
   ]
  },
  {
   "cell_type": "code",
   "execution_count": 13,
   "metadata": {},
   "outputs": [
    {
     "data": {
      "text/latex": [
       "$$ x_{1} $$"
      ],
      "text/plain": [
       "x[1]"
      ]
     },
     "execution_count": 13,
     "metadata": {},
     "output_type": "execute_result"
    }
   ],
   "source": [
    "#LinkConstraints\n",
    "@linkconstraint(mg,n1[:x][1] + n2[:x][1] + n1[:x][2] <= 10)\n",
    "\n",
    "#Set graph objective\n",
    "@graphobjective(mg,Min,n1[:x][1])\n"
   ]
  },
  {
   "cell_type": "markdown",
   "metadata": {},
   "source": [
    "### We can aggregate a ModelGraph into a single AggregateModel object\n",
    "Aggregation facilitates all of the ModelGraph solver interfaces.  A ModelGraph can be aggregated completely as shown here to use the solvers that interface with JuMP and MOI, or it can be aggregated in such a way to create block-structures for distributed solvers."
   ]
  },
  {
   "cell_type": "code",
   "execution_count": 14,
   "metadata": {},
   "outputs": [
    {
     "name": "stdout",
     "output_type": "stream",
     "text": [
      "This is Ipopt version trunk, running with linear solver ma27.\n",
      "\n",
      "Number of nonzeros in equality constraint Jacobian...:        0\n",
      "Number of nonzeros in inequality constraint Jacobian.:        9\n",
      "Number of nonzeros in Lagrangian Hessian.............:        0\n",
      "\n",
      "Total number of variables............................:        5\n",
      "                     variables with only lower bounds:        4\n",
      "                variables with lower and upper bounds:        0\n",
      "                     variables with only upper bounds:        0\n",
      "Total number of equality constraints.................:        0\n",
      "Total number of inequality constraints...............:        5\n",
      "        inequality constraints with only lower bounds:        1\n",
      "   inequality constraints with lower and upper bounds:        0\n",
      "        inequality constraints with only upper bounds:        4\n",
      "\n",
      "iter    objective    inf_pr   inf_du lg(mu)  ||d||  lg(rg) alpha_du alpha_pr  ls\n",
      "   0  1.0100000e+00 0.00e+00 7.62e-01  -1.0 0.00e+00    -  0.00e+00 0.00e+00   0\n",
      "   1  1.0966306e+00 0.00e+00 1.00e-06  -1.0 2.82e-01    -  1.00e+00 1.00e+00f  1\n",
      "   2  1.0374670e+00 0.00e+00 2.00e-07  -1.7 3.00e-01    -  1.00e+00 1.00e+00f  1\n",
      "   3  1.0035015e+00 0.00e+00 2.83e-08  -2.5 2.14e-01    -  1.00e+00 1.00e+00f  1\n",
      "   4  1.0001667e+00 0.00e+00 1.50e-09  -3.8 6.52e-02    -  1.00e+00 1.00e+00f  1\n",
      "   5  1.0000019e+00 0.00e+00 1.84e-11  -5.7 1.42e-02    -  1.00e+00 1.00e+00f  1\n",
      "   6  9.9999999e-01 0.00e+00 2.51e-14  -8.6 1.55e-03    -  1.00e+00 1.00e+00f  1\n",
      "\n",
      "Number of Iterations....: 6\n",
      "\n",
      "                                   (scaled)                 (unscaled)\n",
      "Objective...............:   9.9999999251305094e-01    9.9999999251305094e-01\n",
      "Dual infeasibility......:   2.5091040356528538e-14    2.5091040356528538e-14\n",
      "Constraint violation....:   0.0000000000000000e+00    0.0000000000000000e+00\n",
      "Complementarity.........:   5.2318052459527592e-09    5.2318052459527592e-09\n",
      "Overall NLP error.......:   5.2318052459527592e-09    5.2318052459527592e-09\n",
      "\n",
      "\n",
      "Number of objective function evaluations             = 7\n",
      "Number of objective gradient evaluations             = 7\n",
      "Number of equality constraint evaluations            = 0\n",
      "Number of inequality constraint evaluations          = 7\n",
      "Number of equality constraint Jacobian evaluations   = 0\n",
      "Number of inequality constraint Jacobian evaluations = 1\n",
      "Number of Lagrangian Hessian evaluations             = 1\n",
      "Total CPU secs in IPOPT (w/o function evaluations)   =      0.004\n",
      "Total CPU secs in NLP function evaluations           =      0.001\n",
      "\n",
      "EXIT: Optimal Solution Found.\n"
     ]
    }
   ],
   "source": [
    "agg_model,aggregation_map = aggregate(mg)\n",
    "ipopt = with_optimizer(Ipopt.Optimizer)\n",
    "optimize!(agg_model,ipopt)"
   ]
  },
  {
   "cell_type": "markdown",
   "metadata": {},
   "source": [
    "### If we call optimize! on a ModelGraph with a JuMP solver object, then it will solve the aggregated model and populate the ModelGraph solution."
   ]
  },
  {
   "cell_type": "code",
   "execution_count": 15,
   "metadata": {},
   "outputs": [
    {
     "name": "stdout",
     "output_type": "stream",
     "text": [
      "Aggregating Model Graph...\n",
      "Optimizing Aggregated Model...\n",
      "Found Solution\n",
      "[1.0, 1.0]\n",
      "[0.0, 0.0]\n"
     ]
    },
    {
     "name": "stderr",
     "output_type": "stream",
     "text": [
      "┌ Warning: Constant in scalar function moved into set.\n",
      "└ @ LinQuadOptInterface /home/jordan/.julia/packages/LinQuadOptInterface/ZMx9f/src/constraints/scalaraffine.jl:146\n"
     ]
    }
   ],
   "source": [
    "glpk = with_optimizer(GLPK.Optimizer)\n",
    "optimize!(mg,glpk)\n",
    "\n",
    "println(nodevalue.(n1[:x]))\n",
    "println(nodevalue.(n2[:x]))"
   ]
  },
  {
   "cell_type": "code",
   "execution_count": null,
   "metadata": {},
   "outputs": [],
   "source": [
    "#OTHER MACROS\n",
    "#@NLmasterconstraint (works)\n",
    "#@NLlinkconstraint (almost works)\n",
    "#@NLnodeconstraint (works)\n",
    "#@NLgraphobjective (almost works)\n"
   ]
  }
 ],
 "metadata": {
  "@webio": {
   "lastCommId": null,
   "lastKernelId": null
  },
  "kernelspec": {
   "display_name": "Julia 1.0.3",
   "language": "julia",
   "name": "julia-1.0"
  },
  "language_info": {
   "file_extension": ".jl",
   "mimetype": "application/julia",
   "name": "julia",
   "version": "1.0.3"
  }
 },
 "nbformat": 4,
 "nbformat_minor": 2
}
